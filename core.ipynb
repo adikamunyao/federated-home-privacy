{
 "cells": [
  {
   "cell_type": "code",
   "execution_count": 1,
   "id": "d390db2d",
   "metadata": {},
   "outputs": [
    {
     "name": "stderr",
     "output_type": "stream",
     "text": [
      "2025-04-04 23:24:20.173914: I tensorflow/tsl/cuda/cudart_stub.cc:28] Could not find cuda drivers on your machine, GPU will not be used.\n",
      "2025-04-04 23:24:20.397362: E tensorflow/compiler/xla/stream_executor/cuda/cuda_dnn.cc:9342] Unable to register cuDNN factory: Attempting to register factory for plugin cuDNN when one has already been registered\n",
      "2025-04-04 23:24:20.397466: E tensorflow/compiler/xla/stream_executor/cuda/cuda_fft.cc:609] Unable to register cuFFT factory: Attempting to register factory for plugin cuFFT when one has already been registered\n",
      "2025-04-04 23:24:20.397532: E tensorflow/compiler/xla/stream_executor/cuda/cuda_blas.cc:1518] Unable to register cuBLAS factory: Attempting to register factory for plugin cuBLAS when one has already been registered\n",
      "2025-04-04 23:24:20.483498: I tensorflow/tsl/cuda/cudart_stub.cc:28] Could not find cuda drivers on your machine, GPU will not be used.\n",
      "2025-04-04 23:24:20.491565: I tensorflow/core/platform/cpu_feature_guard.cc:182] This TensorFlow binary is optimized to use available CPU instructions in performance-critical operations.\n",
      "To enable the following instructions: AVX2 FMA, in other operations, rebuild TensorFlow with the appropriate compiler flags.\n",
      "2025-04-04 23:24:26.379316: W tensorflow/compiler/tf2tensorrt/utils/py_utils.cc:38] TF-TRT Warning: Could not find TensorRT\n",
      "INFO:root:Generated data for 10 devices\n",
      "INFO:root:Global model compiled with DPKerasSGDOptimizer\n",
      "INFO:root:Starting round 1\n",
      "INFO:root:Starting round 2\n",
      "INFO:root:Starting round 3\n",
      "INFO:root:Starting round 4\n",
      "INFO:root:Starting round 5\n",
      "INFO:root:Starting round 6\n",
      "INFO:root:Starting round 7\n",
      "INFO:root:Starting round 8\n",
      "INFO:root:Starting round 9\n",
      "INFO:root:Starting round 10\n"
     ]
    },
    {
     "name": "stdout",
     "output_type": "stream",
     "text": [
      "Precomputation completed successfully!\n"
     ]
    }
   ],
   "source": [
    "from ftl_app.ftl_core.ftl_model import run_ftl_simulation\n",
    "import json\n",
    "\n",
    "accuracy, loss, leakage, latency, epsilon = run_ftl_simulation(num_rounds=10, num_devices=10, noise_multiplier=1.1)\n",
    "with open('ftl_app/precomputed/metrics.json', 'w') as f:\n",
    "    json.dump({\n",
    "        'accuracy': accuracy, 'loss': loss, 'leakage': leakage, \n",
    "        'latency': latency, 'epsilon': epsilon\n",
    "    }, f)\n",
    "print(\"Precomputation completed successfully!\")"
   ]
  }
 ],
 "metadata": {
  "kernelspec": {
   "display_name": "red_env",
   "language": "python",
   "name": "python3"
  },
  "language_info": {
   "codemirror_mode": {
    "name": "ipython",
    "version": 3
   },
   "file_extension": ".py",
   "mimetype": "text/x-python",
   "name": "python",
   "nbconvert_exporter": "python",
   "pygments_lexer": "ipython3",
   "version": "3.9.5"
  }
 },
 "nbformat": 4,
 "nbformat_minor": 5
}
