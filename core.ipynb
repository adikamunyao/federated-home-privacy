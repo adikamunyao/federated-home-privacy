{
 "cells": [
  {
   "cell_type": "markdown",
   "id": "9547566c",
   "metadata": {},
   "source": [
    "### 🧪 Step 1: Collect Metrics from Training\n"
   ]
  },
  {
   "cell_type": "code",
   "execution_count": 10,
   "id": "fdab3544",
   "metadata": {},
   "outputs": [
    {
     "name": "stderr",
     "output_type": "stream",
     "text": [
      "INFO:root:Generated data for 5 devices\n",
      "INFO:root:Global model compiled with DPKerasSGDOptimizer\n",
      "INFO:root:Starting round 1\n",
      "INFO:root:Starting round 2\n",
      "INFO:root:Starting round 3\n",
      "INFO:root:Starting round 4\n",
      "INFO:root:Starting round 5\n",
      "INFO:root:Starting round 6\n",
      "INFO:root:Starting round 7\n",
      "INFO:root:Starting round 8\n",
      "INFO:root:Starting round 9\n",
      "INFO:root:Starting round 10\n"
     ]
    }
   ],
   "source": [
    "accuracy, loss, leakage, latency, epsilon = run_ftl_simulation(num_rounds=10, num_devices=5)\n"
   ]
  },
  {
   "cell_type": "code",
   "execution_count": 11,
   "id": "8b5aacd4",
   "metadata": {},
   "outputs": [],
   "source": [
    "import pandas as pd\n",
    "import matplotlib.pyplot as plt\n",
    "\n",
    "results_df = pd.DataFrame({\n",
    "    'Round': list(range(1, len(accuracy) + 1)),\n",
    "    'Accuracy': accuracy,\n",
    "    'Loss': loss,\n",
    "    'Leakage': leakage,\n",
    "    'Latency': latency,\n",
    "    'Epsilon': epsilon\n",
    "})\n"
   ]
  },
  {
   "cell_type": "code",
   "execution_count": 12,
   "id": "8aba1a28",
   "metadata": {},
   "outputs": [],
   "source": [
    "def plot_metrics(df):\n",
    "    fig, axs = plt.subplots(2, 3, figsize=(18, 10))\n",
    "    axs = axs.ravel()\n",
    "\n",
    "    df.plot(x='Round', y='Accuracy', ax=axs[0], marker='o', title='Global Accuracy per Round')\n",
    "    df.plot(x='Round', y='Loss', ax=axs[1], marker='o', title='Global Loss per Round')\n",
    "    df.plot(x='Round', y='Leakage', ax=axs[2], marker='o', title='Privacy Leakage')\n",
    "    df.plot(x='Round', y='Latency', ax=axs[3], marker='o', title='Simulated Latency')\n",
    "    df.plot(x='Round', y='Epsilon', ax=axs[4], marker='o', title='Privacy Epsilon (DP)')\n",
    "    fig.delaxes(axs[5])  # Remove empty plot\n",
    "\n",
    "    plt.tight_layout()\n",
    "    plt.show()\n"
   ]
  },
  {
   "cell_type": "code",
   "execution_count": 16,
   "id": "4067927a",
   "metadata": {},
   "outputs": [
    {
     "name": "stdout",
     "output_type": "stream",
     "text": [
      "Post-Training Inference Accuracy (Simulated Attack Success Rate): 0.6530\n"
     ]
    }
   ],
   "source": [
    "from ftl_app.ftl_core.evaluation import simulate_inference_attack\n",
    "\n",
    "attack_success_rate = simulate_inference_attack(num_devices=5)\n",
    "print(f\"Post-Training Inference Accuracy (Simulated Attack Success Rate): {attack_success_rate:.4f}\")\n"
   ]
  },
  {
   "cell_type": "code",
   "execution_count": 15,
   "id": "a2cf21e2",
   "metadata": {},
   "outputs": [
    {
     "data": {
      "image/png": "[encoded data removed]",
      "text/plain": [
       "<Figure size 500x400 with 1 Axes>"
      ]
     },
     "metadata": {},
     "output_type": "display_data"
    }
   ],
   "source": [
    "plt.figure(figsize=(5, 4))\n",
    "plt.bar(['Global Model'], [attack_success_rate], color='skyblue')\n",
    "plt.title(\"Post-Training Inference Accuracy\")\n",
    "plt.ylabel(\"Accuracy\")\n",
    "plt.ylim(0, 1)\n",
    "plt.grid(True, axis='y')\n",
    "plt.show()\n"
   ]
  },
  {
   "cell_type": "markdown",
   "id": "5d2e33ec",
   "metadata": {},
   "source": [
    "## Methodology\n",
    "\n",
    "1. **Design and Development:** Use Rapid Application Development (RAD) with iterative prototyping, focusing on requirements planning, user design, construction, and cutover.\n",
    "\n",
    "2. **Data Collection:** Generate synthetic smart home data mimicking real-world scenarios, ensuring diversity and privacy.\n",
    "\n",
    "3. **System Architecture:** Implement local model training, global model aggregation, and synchronization, keeping raw data local.\n",
    "\n",
    "4. **Construction:** Build the FTL model with Python (TensorFlow, PySyft), refining through prototypes.\n",
    "\n",
    "5. **Cutover:** Transition to a simulated real-world setup and test performance/privacy.\n",
    "\n",
    "6. **System Testing and Evaluation:** Assess accuracy, loss, communication efficiency, differential privacy guarantees, and information leakage.\n",
    "\n"
   ]
  },
  {
   "cell_type": "markdown",
   "id": "0ee695ce",
   "metadata": {},
   "source": [
    "### Design and Development (RAD)\n",
    "\n",
    "a. Requirements Planning\n",
    "* Functional Requirements: Simulate smart home data, train local models, aggregate globally, evaluate privacy/performance.\n",
    "\n",
    "* Non-Functional Requirements: Privacy preservation, low latency, scalability.\n",
    "\n",
    "* Tools: Python, TensorFlow Federated, Django, SQLite (for simplicity).\n",
    "\n",
    "\n",
    "b. User Design (Iterative Prototyping)\n",
    "* Design a web interface for testing with feedback loops. Initial prototype focuses on input parameters (rounds, devices, noise) and output metrics/plots.\n",
    "\n"
   ]
  },
  {
   "cell_type": "markdown",
   "id": "70b8d406",
   "metadata": {},
   "source": [
    "### Data Collection\n",
    "Synthetic data generation.\n",
    "\n"
   ]
  },
  {
   "cell_type": "code",
   "execution_count": null,
   "id": "d390db2d",
   "metadata": {},
   "outputs": [],
   "source": [
    "from ftl_app.ftl_core.ftl_models import run_ftl_simulation\n",
    "import json\n",
    "\n",
    "accuracy, loss, leakage, latency, epsilon = run_ftl_simulation(num_rounds=10, num_devices=10, noise_multiplier=1.1)\n",
    "with open('ftl_app/precomputed/metrics.json', 'w') as f:\n",
    "    json.dump({\n",
    "        'accuracy': accuracy, 'loss': loss, 'leakage': leakage, \n",
    "        'latency': latency, 'epsilon': epsilon\n",
    "    }, f)\n",
    "print(\"Precomputation completed successfully!\")"
   ]
  }
 ],
 "metadata": {
  "kernelspec": {
   "display_name": "red_env",
   "language": "python",
   "name": "python3"
  },
  "language_info": {
   "codemirror_mode": {
    "name": "ipython",
    "version": 3
   },
   "file_extension": ".py",
   "mimetype": "text/x-python",
   "name": "python",
   "nbconvert_exporter": "python",
   "pygments_lexer": "ipython3",
   "version": "3.9.5"
  }
 },
 "nbformat": 4,
 "nbformat_minor": 5
}
